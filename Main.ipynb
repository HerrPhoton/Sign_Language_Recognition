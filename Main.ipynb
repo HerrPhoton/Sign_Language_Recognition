{
 "cells": [
  {
   "cell_type": "code",
   "execution_count": 213,
   "metadata": {},
   "outputs": [],
   "source": [
    "import shutil\n",
    "import torch\n",
    "import os\n",
    "\n",
    "import matplotlib.pyplot as plt\n",
    "import pyarrow.parquet as pq\n",
    "import albumentations as A\n",
    "import pandas as pd\n",
    "import numpy as np\n",
    "\n",
    "from albumentations.pytorch.transforms import ToTensorV2\n",
    "from torch.optim.lr_scheduler import ReduceLROnPlateau\n",
    "from torch.utils.data import DataLoader, random_split\n",
    "from torchvision.datasets import DatasetFolder\n",
    "from tqdm import tqdm; tqdm.pandas();"
   ]
  },
  {
   "cell_type": "code",
   "execution_count": 214,
   "metadata": {},
   "outputs": [
    {
     "name": "stdout",
     "output_type": "stream",
     "text": [
      "Current device: cuda\n"
     ]
    }
   ],
   "source": [
    "# Устройство для обучения\n",
    "device = torch.device('cuda' if torch.cuda.is_available() else 'cpu')\n",
    "print(\"Current device:\", device)"
   ]
  },
  {
   "attachments": {},
   "cell_type": "markdown",
   "metadata": {},
   "source": [
    "# Настройка параметров"
   ]
  },
  {
   "cell_type": "code",
   "execution_count": 215,
   "metadata": {},
   "outputs": [],
   "source": [
    "# Директории с файлами\n",
    "DATASET_DIR = './train_landmark_files'\n",
    "CLASSES_DIR = './Dataset'\n",
    "\n",
    "# Параметры загрузчиков\n",
    "BACTH_SIZE  = 1\n",
    "NUM_WORKERS = 0\n",
    "PIN_MEMORY  = True\n",
    "\n",
    "# Параметры оптимизатора\n",
    "WEIGHT_DECAY  = 5e-5\n",
    "LEARNING_RATE = 5e-3\n",
    "\n",
    "MEAN = [0.3395, 0.3431, 0.3020]\n",
    "STD  = [0.3908, 0.3897, 0.3542]\n",
    "\n",
    "# Параметры планировщика\n",
    "FACTOR    = 0.1\n",
    "PATIENCE  = 10\n",
    "THRESHOLD = 1e-4\n",
    "\n",
    "# Параметры модели\n",
    "ENCODER         = 'resnet50'\n",
    "ENCODER_WEIGHTS = None\n",
    "\n",
    "# Параметры обучения\n",
    "NUM_EPOCHS = 30\n",
    "\n",
    "# Параметры датасета\n",
    "ORIGINAL_SIZE = 1500\n",
    "PADED_SIZE    = 1536\n",
    "PATCH_SIZE    = 256 \n",
    "VALID_PART = 0.1\n",
    "TEST_PART  = 0.1"
   ]
  },
  {
   "attachments": {},
   "cell_type": "markdown",
   "metadata": {},
   "source": [
    "# Настройка аугментаций"
   ]
  },
  {
   "cell_type": "code",
   "execution_count": 216,
   "metadata": {},
   "outputs": [],
   "source": [
    "train_transform = A.Compose([\n",
    "        A.RandomBrightnessContrast(brightness_limit = 0.1, contrast_limit = 0.1, p = 0.5),\n",
    "        A.HorizontalFlip(p = 0.5),\n",
    "        A.PadIfNeeded(PADED_SIZE, PADED_SIZE, border_mode = 0),\n",
    "        A.Normalize(mean = MEAN, std = STD),        \n",
    "        ToTensorV2()])\n",
    "\n",
    "val_test_transform = A.Compose([\n",
    "    A.PadIfNeeded(PADED_SIZE, PADED_SIZE, border_mode = 0),\n",
    "    A.Normalize(mean = MEAN, std = STD),\n",
    "    ToTensorV2()])"
   ]
  },
  {
   "attachments": {},
   "cell_type": "markdown",
   "metadata": {},
   "source": [
    "# Распределение файлов по классам"
   ]
  },
  {
   "cell_type": "code",
   "execution_count": 217,
   "metadata": {},
   "outputs": [
    {
     "data": {
      "text/html": [
       "<div>\n",
       "<style scoped>\n",
       "    .dataframe tbody tr th:only-of-type {\n",
       "        vertical-align: middle;\n",
       "    }\n",
       "\n",
       "    .dataframe tbody tr th {\n",
       "        vertical-align: top;\n",
       "    }\n",
       "\n",
       "    .dataframe thead th {\n",
       "        text-align: right;\n",
       "    }\n",
       "</style>\n",
       "<table border=\"1\" class=\"dataframe\">\n",
       "  <thead>\n",
       "    <tr style=\"text-align: right;\">\n",
       "      <th></th>\n",
       "      <th>path</th>\n",
       "      <th>participant_id</th>\n",
       "      <th>sequence_id</th>\n",
       "      <th>sign</th>\n",
       "    </tr>\n",
       "  </thead>\n",
       "  <tbody>\n",
       "    <tr>\n",
       "      <th>0</th>\n",
       "      <td>train_landmark_files/26734/1000035562.parquet</td>\n",
       "      <td>26734</td>\n",
       "      <td>1000035562</td>\n",
       "      <td>blow</td>\n",
       "    </tr>\n",
       "    <tr>\n",
       "      <th>1</th>\n",
       "      <td>train_landmark_files/28656/1000106739.parquet</td>\n",
       "      <td>28656</td>\n",
       "      <td>1000106739</td>\n",
       "      <td>wait</td>\n",
       "    </tr>\n",
       "    <tr>\n",
       "      <th>2</th>\n",
       "      <td>train_landmark_files/16069/100015657.parquet</td>\n",
       "      <td>16069</td>\n",
       "      <td>100015657</td>\n",
       "      <td>cloud</td>\n",
       "    </tr>\n",
       "    <tr>\n",
       "      <th>3</th>\n",
       "      <td>train_landmark_files/25571/1000210073.parquet</td>\n",
       "      <td>25571</td>\n",
       "      <td>1000210073</td>\n",
       "      <td>bird</td>\n",
       "    </tr>\n",
       "    <tr>\n",
       "      <th>4</th>\n",
       "      <td>train_landmark_files/62590/1000240708.parquet</td>\n",
       "      <td>62590</td>\n",
       "      <td>1000240708</td>\n",
       "      <td>owie</td>\n",
       "    </tr>\n",
       "  </tbody>\n",
       "</table>\n",
       "</div>"
      ],
      "text/plain": [
       "                                            path  participant_id  sequence_id  \\\n",
       "0  train_landmark_files/26734/1000035562.parquet           26734   1000035562   \n",
       "1  train_landmark_files/28656/1000106739.parquet           28656   1000106739   \n",
       "2   train_landmark_files/16069/100015657.parquet           16069    100015657   \n",
       "3  train_landmark_files/25571/1000210073.parquet           25571   1000210073   \n",
       "4  train_landmark_files/62590/1000240708.parquet           62590   1000240708   \n",
       "\n",
       "    sign  \n",
       "0   blow  \n",
       "1   wait  \n",
       "2  cloud  \n",
       "3   bird  \n",
       "4   owie  "
      ]
     },
     "execution_count": 217,
     "metadata": {},
     "output_type": "execute_result"
    }
   ],
   "source": [
    "df = pd.read_csv('./train.csv')\n",
    "df.head()"
   ]
  },
  {
   "cell_type": "code",
   "execution_count": 218,
   "metadata": {},
   "outputs": [],
   "source": [
    "def path_handle(path, sign):\n",
    "\n",
    "    if not os.path.exists(os.path.join(CLASSES_DIR, sign)):        \n",
    "        os.mkdir(os.path.join(CLASSES_DIR, sign))\n",
    "\n",
    "    shutil.move(path, os.path.join(CLASSES_DIR, sign))"
   ]
  },
  {
   "cell_type": "code",
   "execution_count": 219,
   "metadata": {},
   "outputs": [],
   "source": [
    "if not os.path.exists(CLASSES_DIR):\n",
    "    os.mkdir(CLASSES_DIR)\n",
    "\n",
    "    [path_handle(path, sign) for path, _, _, sign in zip(df['path'], df['participant_id'], df['sequence_id'], df['sign'])]"
   ]
  },
  {
   "attachments": {},
   "cell_type": "markdown",
   "metadata": {},
   "source": [
    "# Разделение датасета"
   ]
  },
  {
   "cell_type": "code",
   "execution_count": 249,
   "metadata": {},
   "outputs": [],
   "source": [
    "dataset = DatasetFolder(CLASSES_DIR, loader = lambda path: pq.read_table(path).to_pandas().dropna(), is_valid_file = lambda _: True)\n",
    "\n",
    "n_val   = int(len(dataset) * VALID_PART)\n",
    "n_test  = int(len(dataset) * TEST_PART)\n",
    "n_train = len(dataset) - n_val - n_test\n",
    "\n",
    "train_dataset, val_dataset, test_dataset = random_split(dataset, [n_train, n_val, n_test])"
   ]
  },
  {
   "attachments": {},
   "cell_type": "markdown",
   "metadata": {},
   "source": [
    "# Создание загрузчиков"
   ]
  },
  {
   "cell_type": "code",
   "execution_count": 255,
   "metadata": {},
   "outputs": [
    {
     "data": {
      "text/html": [
       "<div>\n",
       "<style scoped>\n",
       "    .dataframe tbody tr th:only-of-type {\n",
       "        vertical-align: middle;\n",
       "    }\n",
       "\n",
       "    .dataframe tbody tr th {\n",
       "        vertical-align: top;\n",
       "    }\n",
       "\n",
       "    .dataframe thead th {\n",
       "        text-align: right;\n",
       "    }\n",
       "</style>\n",
       "<table border=\"1\" class=\"dataframe\">\n",
       "  <thead>\n",
       "    <tr style=\"text-align: right;\">\n",
       "      <th></th>\n",
       "      <th>frame</th>\n",
       "      <th>row_id</th>\n",
       "      <th>type</th>\n",
       "      <th>landmark_index</th>\n",
       "      <th>x</th>\n",
       "      <th>y</th>\n",
       "      <th>z</th>\n",
       "    </tr>\n",
       "  </thead>\n",
       "  <tbody>\n",
       "    <tr>\n",
       "      <th>0</th>\n",
       "      <td>20</td>\n",
       "      <td>20-face-0</td>\n",
       "      <td>face</td>\n",
       "      <td>0</td>\n",
       "      <td>0.533508</td>\n",
       "      <td>0.432874</td>\n",
       "      <td>-0.043728</td>\n",
       "    </tr>\n",
       "    <tr>\n",
       "      <th>1</th>\n",
       "      <td>20</td>\n",
       "      <td>20-face-1</td>\n",
       "      <td>face</td>\n",
       "      <td>1</td>\n",
       "      <td>0.524704</td>\n",
       "      <td>0.397327</td>\n",
       "      <td>-0.074473</td>\n",
       "    </tr>\n",
       "    <tr>\n",
       "      <th>2</th>\n",
       "      <td>20</td>\n",
       "      <td>20-face-2</td>\n",
       "      <td>face</td>\n",
       "      <td>2</td>\n",
       "      <td>0.528149</td>\n",
       "      <td>0.409442</td>\n",
       "      <td>-0.040752</td>\n",
       "    </tr>\n",
       "    <tr>\n",
       "      <th>3</th>\n",
       "      <td>20</td>\n",
       "      <td>20-face-3</td>\n",
       "      <td>face</td>\n",
       "      <td>3</td>\n",
       "      <td>0.513380</td>\n",
       "      <td>0.363337</td>\n",
       "      <td>-0.051348</td>\n",
       "    </tr>\n",
       "    <tr>\n",
       "      <th>4</th>\n",
       "      <td>20</td>\n",
       "      <td>20-face-4</td>\n",
       "      <td>face</td>\n",
       "      <td>4</td>\n",
       "      <td>0.523715</td>\n",
       "      <td>0.386477</td>\n",
       "      <td>-0.078533</td>\n",
       "    </tr>\n",
       "    <tr>\n",
       "      <th>...</th>\n",
       "      <td>...</td>\n",
       "      <td>...</td>\n",
       "      <td>...</td>\n",
       "      <td>...</td>\n",
       "      <td>...</td>\n",
       "      <td>...</td>\n",
       "      <td>...</td>\n",
       "    </tr>\n",
       "    <tr>\n",
       "      <th>8683</th>\n",
       "      <td>35</td>\n",
       "      <td>35-right_hand-16</td>\n",
       "      <td>right_hand</td>\n",
       "      <td>16</td>\n",
       "      <td>0.551596</td>\n",
       "      <td>0.609307</td>\n",
       "      <td>-0.061677</td>\n",
       "    </tr>\n",
       "    <tr>\n",
       "      <th>8684</th>\n",
       "      <td>35</td>\n",
       "      <td>35-right_hand-17</td>\n",
       "      <td>right_hand</td>\n",
       "      <td>17</td>\n",
       "      <td>0.474747</td>\n",
       "      <td>0.568337</td>\n",
       "      <td>-0.076824</td>\n",
       "    </tr>\n",
       "    <tr>\n",
       "      <th>8685</th>\n",
       "      <td>35</td>\n",
       "      <td>35-right_hand-18</td>\n",
       "      <td>right_hand</td>\n",
       "      <td>18</td>\n",
       "      <td>0.559052</td>\n",
       "      <td>0.583239</td>\n",
       "      <td>-0.086096</td>\n",
       "    </tr>\n",
       "    <tr>\n",
       "      <th>8686</th>\n",
       "      <td>35</td>\n",
       "      <td>35-right_hand-19</td>\n",
       "      <td>right_hand</td>\n",
       "      <td>19</td>\n",
       "      <td>0.562447</td>\n",
       "      <td>0.610933</td>\n",
       "      <td>-0.074499</td>\n",
       "    </tr>\n",
       "    <tr>\n",
       "      <th>8687</th>\n",
       "      <td>35</td>\n",
       "      <td>35-right_hand-20</td>\n",
       "      <td>right_hand</td>\n",
       "      <td>20</td>\n",
       "      <td>0.550546</td>\n",
       "      <td>0.622914</td>\n",
       "      <td>-0.064291</td>\n",
       "    </tr>\n",
       "  </tbody>\n",
       "</table>\n",
       "<p>8352 rows × 7 columns</p>\n",
       "</div>"
      ],
      "text/plain": [
       "      frame            row_id        type  landmark_index         x         y  \\\n",
       "0        20         20-face-0        face               0  0.533508  0.432874   \n",
       "1        20         20-face-1        face               1  0.524704  0.397327   \n",
       "2        20         20-face-2        face               2  0.528149  0.409442   \n",
       "3        20         20-face-3        face               3  0.513380  0.363337   \n",
       "4        20         20-face-4        face               4  0.523715  0.386477   \n",
       "...     ...               ...         ...             ...       ...       ...   \n",
       "8683     35  35-right_hand-16  right_hand              16  0.551596  0.609307   \n",
       "8684     35  35-right_hand-17  right_hand              17  0.474747  0.568337   \n",
       "8685     35  35-right_hand-18  right_hand              18  0.559052  0.583239   \n",
       "8686     35  35-right_hand-19  right_hand              19  0.562447  0.610933   \n",
       "8687     35  35-right_hand-20  right_hand              20  0.550546  0.622914   \n",
       "\n",
       "             z  \n",
       "0    -0.043728  \n",
       "1    -0.074473  \n",
       "2    -0.040752  \n",
       "3    -0.051348  \n",
       "4    -0.078533  \n",
       "...        ...  \n",
       "8683 -0.061677  \n",
       "8684 -0.076824  \n",
       "8685 -0.086096  \n",
       "8686 -0.074499  \n",
       "8687 -0.064291  \n",
       "\n",
       "[8352 rows x 7 columns]"
      ]
     },
     "execution_count": 255,
     "metadata": {},
     "output_type": "execute_result"
    }
   ],
   "source": [
    "train_loader = DataLoader(train_dataset, batch_size = BACTH_SIZE, num_workers = NUM_WORKERS, pin_memory = PIN_MEMORY)\n",
    "val_loader   = DataLoader(val_dataset, batch_size = BACTH_SIZE, num_workers = NUM_WORKERS, pin_memory = PIN_MEMORY)\n",
    "test_loader  = DataLoader(test_dataset, batch_size = BACTH_SIZE, num_workers = NUM_WORKERS, pin_memory = PIN_MEMORY)"
   ]
  },
  {
   "attachments": {},
   "cell_type": "markdown",
   "metadata": {},
   "source": [
    "# Распределение классов в датасете"
   ]
  },
  {
   "cell_type": "code",
   "execution_count": 222,
   "metadata": {},
   "outputs": [
    {
     "data": {
      "image/png": "[encoded data removed]",
      "text/plain": [
       "<Figure size 1700x500 with 2 Axes>"
      ]
     },
     "metadata": {},
     "output_type": "display_data"
    }
   ],
   "source": [
    "fig, (ax1, ax2) = plt.subplots(1, 2, figsize = (17, 5))\n",
    "\n",
    "df['sign'].value_counts().head(10).sort_values(ascending = True).plot(\n",
    "    kind = \"barh\", ax = ax1, title = 'Top 10 Signs in Dataset'\n",
    ")\n",
    "\n",
    "df['sign'].value_counts().tail(10).sort_values(ascending = True).plot(\n",
    "    kind = \"barh\", ax = ax2, title = 'Bottom 20 Signs in Dataset'\n",
    ")\n",
    "\n",
    "ax1.set_xlabel('Number of Training Examples')\n",
    "ax2.set_xlabel('Number of Training Examples')\n",
    "\n",
    "plt.show()"
   ]
  },
  {
   "attachments": {},
   "cell_type": "markdown",
   "metadata": {},
   "source": [
    "# Визуализация данных"
   ]
  },
  {
   "cell_type": "code",
   "execution_count": null,
   "metadata": {},
   "outputs": [],
   "source": []
  }
 ],
 "metadata": {
  "kernelspec": {
   "display_name": "Python 3",
   "language": "python",
   "name": "python3"
  },
  "language_info": {
   "codemirror_mode": {
    "name": "ipython",
    "version": 3
   },
   "file_extension": ".py",
   "mimetype": "text/x-python",
   "name": "python",
   "nbconvert_exporter": "python",
   "pygments_lexer": "ipython3",
   "version": "3.10.7"
  },
  "orig_nbformat": 4
 },
 "nbformat": 4,
 "nbformat_minor": 2
}
