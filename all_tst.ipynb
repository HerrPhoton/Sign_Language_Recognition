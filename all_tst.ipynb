{
 "cells": [
  {
   "cell_type": "code",
   "execution_count": 1,
   "metadata": {
    "collapsed": true,
    "ExecuteTime": {
     "end_time": "2023-05-23T21:21:05.139843Z",
     "start_time": "2023-05-23T21:21:03.091789700Z"
    }
   },
   "outputs": [],
   "source": [
    "import cv2\n",
    "import mediapipe as mp\n",
    "import pandas as pd\n",
    "import numpy as np\n",
    "import os\n",
    "from datetime import timedelta\n",
    "\n"
   ]
  },
  {
   "cell_type": "code",
   "execution_count": 2,
   "metadata": {
    "ExecuteTime": {
     "end_time": "2023-05-23T21:21:05.154890500Z",
     "start_time": "2023-05-23T21:21:05.145843500Z"
    }
   },
   "outputs": [],
   "source": [
    "def format_timedelta(td):\n",
    "    \"\"\"Служебная функция для классного форматирования объектов timedelta (например, 00:00:20.05)\n",
    "    исключая микросекунды и сохраняя миллисекунды\"\"\"\n",
    "    result = str(td)\n",
    "    try:\n",
    "        result, ms = result.split(\".\")\n",
    "    except ValueError:\n",
    "        return result + \".00\".replace(\":\", \"-\")\n",
    "    ms = int(ms)\n",
    "    ms = round(ms / 1e4)\n",
    "    return f\"{result}.{ms:02}\".replace(\":\", \"-\")"
   ]
  },
  {
   "cell_type": "code",
   "execution_count": 3,
   "outputs": [],
   "source": [
    "def get_saving_frames_durations(cap, saving_fps):\n",
    "    \"\"\"Функция, которая возвращает список длительностей, в которые следует сохранять кадры.\"\"\"\n",
    "    s = []\n",
    "    # получаем продолжительность клипа, разделив количество кадров на количество кадров в секунду\n",
    "    clip_duration = cap.get(cv2.CAP_PROP_FRAME_COUNT) / cap.get(cv2.CAP_PROP_FPS)\n",
    "    # используйте np.arange () для выполнения шагов с плавающей запятой\n",
    "    for i in np.arange(0, clip_duration, 1 / saving_fps):\n",
    "        s.append(i)\n",
    "    return s"
   ],
   "metadata": {
    "collapsed": false,
    "ExecuteTime": {
     "end_time": "2023-05-23T21:21:05.188956500Z",
     "start_time": "2023-05-23T21:21:05.159952300Z"
    }
   }
  },
  {
   "cell_type": "code",
   "execution_count": 4,
   "outputs": [],
   "source": [
    "def cut_video(inp_dir):\n",
    "    SAVING_FRAMES_PER_SECOND = 10\n",
    "    video = inp_dir\n",
    "    filename = video\n",
    "    filename += \"-opencv\"\n",
    "    # создаем папку по названию видео файла\n",
    "    if not os.path.isdir(filename):\n",
    "        os.mkdir(filename)\n",
    "    # читать видео файл\n",
    "    cap = cv2.VideoCapture(video)\n",
    "    # получить FPS видео\n",
    "    fps = cap.get(cv2.CAP_PROP_FPS)\n",
    "    # если SAVING_FRAMES_PER_SECOND выше видео FPS, то установите его на FPS (как максимум)\n",
    "    saving_frames_per_second = min(fps, SAVING_FRAMES_PER_SECOND)\n",
    "    # получить список длительностей для сохранения\n",
    "    saving_frames_durations = get_saving_frames_durations(cap, saving_frames_per_second)\n",
    "    # запускаем цикл\n",
    "    count = 0\n",
    "    while True:\n",
    "        is_read, frame = cap.read()\n",
    "        if not is_read:\n",
    "            # выйти из цикла, если нет фреймов для чтения\n",
    "            break\n",
    "        # получаем продолжительность, разделив количество кадров на FPS\n",
    "        frame_duration = count / fps\n",
    "        try:\n",
    "            # получить самую раннюю продолжительность для сохранения\n",
    "            closest_duration = saving_frames_durations[0]\n",
    "        except IndexError:\n",
    "            # список пуст, все кадры длительности сохранены\n",
    "            break\n",
    "        if frame_duration >= closest_duration:\n",
    "            # если ближайшая длительность меньше или равна длительности кадра,\n",
    "            # затем сохраняем фрейм\n",
    "            frame_duration_formatted = format_timedelta(timedelta(seconds=frame_duration))\n",
    "            cv2.imwrite(os.path.join(filename, f\"frame{frame_duration_formatted}.jpg\"), frame)\n",
    "            # удалить точку продолжительности из списка, так как эта точка длительности уже сохранена\n",
    "            try:\n",
    "                saving_frames_durations.pop(0)\n",
    "            except IndexError:\n",
    "                pass\n",
    "        # увеличить количество кадров\n",
    "        count += 1\n",
    "    # print(f\"Итого сохранено кадров {save_count}\")\n",
    "    return filename"
   ],
   "metadata": {
    "collapsed": false,
    "ExecuteTime": {
     "end_time": "2023-05-23T21:21:05.204962900Z",
     "start_time": "2023-05-23T21:21:05.184956Z"
    }
   }
  },
  {
   "cell_type": "code",
   "execution_count": 15,
   "metadata": {
    "collapsed": false,
    "ExecuteTime": {
     "end_time": "2023-05-23T21:45:48.977143800Z",
     "start_time": "2023-05-23T21:45:48.957624400Z"
    }
   },
   "outputs": [],
   "source": [
    "def create_test_df(input_dir):\n",
    "    mp_holistic = mp.solutions.holistic\n",
    "    mp_drawing = mp.solutions.drawing_utils\n",
    "\n",
    "    face_list = []\n",
    "    left_hand_list = []\n",
    "    right_hand_list = []\n",
    "    pose_list = []\n",
    "\n",
    "    iter_f = 0\n",
    "    for filename in os.listdir(input_dir):\n",
    "        fil_n = input_dir + '/' + filename\n",
    "\n",
    "        print(\"Photo processed: \", iter_f)\n",
    "        image = cv2.imread(fil_n)\n",
    "        # cv2.imshow(\"ff\",image)\n",
    "\n",
    "        ## Setup mediapipe instance\n",
    "        with mp_holistic.Holistic(min_detection_confidence=0.5, min_tracking_confidence=0.5) as holistic:\n",
    "\n",
    "            # Recolor image to RGB\n",
    "            image = cv2.cvtColor(cv2.flip(image, 1), cv2.COLOR_BGR2RGB)\n",
    "            image.flags.writeable = False\n",
    "\n",
    "            # Make detection\n",
    "            results = holistic.process(image)\n",
    "\n",
    "            # Recolor back to BGR\n",
    "            image.flags.writeable = True\n",
    "            image = cv2.cvtColor(image, cv2.COLOR_RGB2BGR)\n",
    "\n",
    "            # 1. Draw face landmarks\n",
    "            mp_drawing.draw_landmarks(image, results.face_landmarks, mp_holistic.FACEMESH_CONTOURS,\n",
    "                                      mp_drawing.DrawingSpec(color=(80, 110, 10), thickness=1, circle_radius=1),\n",
    "                                      mp_drawing.DrawingSpec(color=(80, 256, 121), thickness=1, circle_radius=1)\n",
    "                                      )\n",
    "\n",
    "            # 2. Right hand\n",
    "            mp_drawing.draw_landmarks(image, results.right_hand_landmarks, mp_holistic.HAND_CONNECTIONS,\n",
    "                                      mp_drawing.DrawingSpec(color=(80, 22, 10), thickness=2, circle_radius=4),\n",
    "                                      mp_drawing.DrawingSpec(color=(80, 44, 121), thickness=2, circle_radius=2)\n",
    "                                      )\n",
    "\n",
    "            # 3. Left Hand\n",
    "            mp_drawing.draw_landmarks(image, results.left_hand_landmarks, mp_holistic.HAND_CONNECTIONS,\n",
    "                                      mp_drawing.DrawingSpec(color=(121, 22, 76), thickness=2, circle_radius=4),\n",
    "                                      mp_drawing.DrawingSpec(color=(121, 44, 250), thickness=2, circle_radius=2)\n",
    "                                      )\n",
    "\n",
    "            # 2. Draw pose landmarks\n",
    "            mp_drawing.draw_landmarks(image, results.pose_landmarks, mp_holistic.POSE_CONNECTIONS,\n",
    "                                      mp_drawing.DrawingSpec(color=(245, 117, 66), thickness=2, circle_radius=2),\n",
    "                                      mp_drawing.DrawingSpec(color=(245, 66, 230), thickness=2, circle_radius=2)\n",
    "                                      )\n",
    "\n",
    "            # cv2.imshow('Mediapipe Feed', image)\n",
    "            # cv2.waitKey()\n",
    "\n",
    "        # 1. Face Dataframe\n",
    "        # len_face = len(results.face_landmarks.landmark)\n",
    "        len_face = 468\n",
    "        # print(len_face)\n",
    "        for itr in range(len_face):\n",
    "            if results.face_landmarks:\n",
    "                lst = [iter_f, 'face', itr, results.face_landmarks.landmark[itr].x,\n",
    "                       results.face_landmarks.landmark[itr].y, results.face_landmarks.landmark[itr].z]\n",
    "            else:\n",
    "                lst = [iter_f, 'face', itr, None,None,None]\n",
    "            face_list.append(lst)\n",
    "\n",
    "        # 2. Left_hand Dataframe\n",
    "        # len_lft = len(results.left_hand_landmarks.landmark)\n",
    "        len_lft = 21\n",
    "        # print(len_lft)\n",
    "        for itr in range(len_lft):\n",
    "            if results.left_hand_landmarks:\n",
    "                lst = [iter_f, 'left_hand', itr, results.left_hand_landmarks.landmark[itr].x,\n",
    "                       results.left_hand_landmarks.landmark[itr].y, results.left_hand_landmarks.landmark[itr].z]\n",
    "            else:\n",
    "                lst = [iter_f, 'left_hand', itr, None,None,None]\n",
    "            left_hand_list.append(lst)\n",
    "\n",
    "        # 3. Right_hand Dataframe\n",
    "        # len_rgt = len(results.right_hand_landmarks.landmark)\n",
    "        len_rgt = 21\n",
    "        # print(len_rgt)\n",
    "        for itr in range(len_rgt):\n",
    "            if results.right_hand_landmarks:\n",
    "                lst = [iter_f, 'right_hand', itr, results.right_hand_landmarks.landmark[itr].x,\n",
    "                       results.right_hand_landmarks.landmark[itr].y, results.right_hand_landmarks.landmark[itr].z]\n",
    "            else:\n",
    "                lst = [iter_f, 'right_hand', itr, None,None,None]\n",
    "            right_hand_list.append(lst)\n",
    "\n",
    "\n",
    "        # 2. Pose Dataframe\n",
    "        # len_pose = len(results.pose_landmarks.landmark)\n",
    "        len_pose = 33\n",
    "        # print(len_pose)\n",
    "        for itr in range(len_pose):\n",
    "            if results.pose_landmarks:\n",
    "                lst = [iter_f, 'pose', itr, results.pose_landmarks.landmark[itr].x,\n",
    "                       results.pose_landmarks.landmark[itr].y, results.pose_landmarks.landmark[itr].z]\n",
    "            else:\n",
    "                lst = [iter_f, 'pose', itr, None,None,None]\n",
    "            pose_list.append(lst)\n",
    "\n",
    "        iter_f += 1\n",
    "    df_face = pd.DataFrame(face_list, columns=['frame', 'type', 'landmark_index', 'x', 'y', 'z'])\n",
    "    df_left_hand = pd.DataFrame(left_hand_list, columns=['frame', 'type', 'landmark_index', 'x', 'y', 'z'])\n",
    "    df_right_hand = pd.DataFrame(right_hand_list, columns=['frame', 'type', 'landmark_index', 'x', 'y', 'z'])\n",
    "    df_pose = pd.DataFrame(pose_list, columns=['frame', 'type', 'landmark_index', 'x', 'y', 'z'])\n",
    "    df = pd.concat([df_face, df_left_hand,df_right_hand,df_pose], ignore_index=True)\n",
    "    return df\n",
    "    # df.to_csv(out_dir)"
   ]
  },
  {
   "cell_type": "code",
   "execution_count": 16,
   "outputs": [],
   "source": [
    "def create_video():\n",
    "    cap = cv2.VideoCapture(0)\n",
    "    cap.set(3, 640)\n",
    "    cap.set(4, 480)\n",
    "\n",
    "    # out = 'output.mp4'\n",
    "    # fourcc = cv2.VideoWriter_fourcc(*'MP4V')\n",
    "    out = cv2.VideoWriter('output.mp4', 0x7634706d, 30.0, (640, 480))\n",
    "\n",
    "    while True:\n",
    "        ret, frame = cap.read()\n",
    "        out.write(frame)\n",
    "        cv2.imshow('frame', frame)\n",
    "        c = cv2.waitKey(1)\n",
    "        if c & 0xFF == ord('q'):\n",
    "            break\n",
    "\n",
    "    cap.release()\n",
    "    out.release()\n",
    "    cv2.destroyAllWindows()\n",
    "    return out"
   ],
   "metadata": {
    "collapsed": false,
    "ExecuteTime": {
     "end_time": "2023-05-23T21:45:49.522504Z",
     "start_time": "2023-05-23T21:45:49.501505900Z"
    }
   }
  },
  {
   "cell_type": "code",
   "execution_count": 19,
   "metadata": {
    "collapsed": false,
    "ExecuteTime": {
     "end_time": "2023-05-23T21:47:19.453137600Z",
     "start_time": "2023-05-23T21:47:19.413354100Z"
    }
   },
   "outputs": [],
   "source": [
    "def get_dataframe():\n",
    "    create_video()\n",
    "    video = 'output.mp4'\n",
    "    # print(video)\n",
    "    inp_dir = cut_video(video)\n",
    "    # out_df_dir = out\n",
    "\n",
    "    df = create_test_df(inp_dir)\n",
    "    return df"
   ]
  },
  {
   "cell_type": "code",
   "execution_count": 20,
   "metadata": {
    "collapsed": false,
    "ExecuteTime": {
     "end_time": "2023-05-23T21:48:27.224158300Z",
     "start_time": "2023-05-23T21:47:21.109407600Z"
    }
   },
   "outputs": [
    {
     "name": "stdout",
     "output_type": "stream",
     "text": [
      "Photo processed:  0\n",
      "Photo processed:  1\n",
      "Photo processed:  2\n",
      "Photo processed:  3\n",
      "Photo processed:  4\n",
      "Photo processed:  5\n",
      "Photo processed:  6\n",
      "Photo processed:  7\n",
      "Photo processed:  8\n",
      "Photo processed:  9\n",
      "Photo processed:  10\n",
      "Photo processed:  11\n",
      "Photo processed:  12\n",
      "Photo processed:  13\n",
      "Photo processed:  14\n",
      "Photo processed:  15\n",
      "Photo processed:  16\n",
      "Photo processed:  17\n",
      "Photo processed:  18\n",
      "Photo processed:  19\n",
      "Photo processed:  20\n",
      "Photo processed:  21\n",
      "Photo processed:  22\n",
      "Photo processed:  23\n",
      "Photo processed:  24\n",
      "Photo processed:  25\n",
      "Photo processed:  26\n",
      "Photo processed:  27\n",
      "Photo processed:  28\n",
      "Photo processed:  29\n",
      "Photo processed:  30\n",
      "Photo processed:  31\n",
      "Photo processed:  32\n",
      "Photo processed:  33\n",
      "Photo processed:  34\n",
      "Photo processed:  35\n",
      "Photo processed:  36\n",
      "Photo processed:  37\n",
      "Photo processed:  38\n",
      "Photo processed:  39\n",
      "Photo processed:  40\n",
      "Photo processed:  41\n",
      "Photo processed:  42\n",
      "Photo processed:  43\n",
      "Photo processed:  44\n",
      "Photo processed:  45\n",
      "Photo processed:  46\n",
      "Photo processed:  47\n",
      "Photo processed:  48\n",
      "Photo processed:  49\n",
      "Photo processed:  50\n",
      "Photo processed:  51\n",
      "Photo processed:  52\n",
      "Photo processed:  53\n",
      "Photo processed:  54\n",
      "Photo processed:  55\n",
      "Photo processed:  56\n",
      "Photo processed:  57\n",
      "Photo processed:  58\n",
      "Photo processed:  59\n",
      "Photo processed:  60\n",
      "Photo processed:  61\n",
      "Photo processed:  62\n",
      "Photo processed:  63\n",
      "Photo processed:  64\n",
      "Photo processed:  65\n",
      "Photo processed:  66\n",
      "Photo processed:  67\n",
      "Photo processed:  68\n",
      "Photo processed:  69\n",
      "Photo processed:  70\n",
      "Photo processed:  71\n",
      "Photo processed:  72\n",
      "Photo processed:  73\n",
      "Photo processed:  74\n",
      "Photo processed:  75\n",
      "Photo processed:  76\n",
      "Photo processed:  77\n",
      "Photo processed:  78\n",
      "Photo processed:  79\n",
      "Photo processed:  80\n",
      "Photo processed:  81\n",
      "Photo processed:  82\n",
      "Photo processed:  83\n",
      "Photo processed:  84\n",
      "Photo processed:  85\n",
      "Photo processed:  86\n",
      "Photo processed:  87\n",
      "Photo processed:  88\n",
      "Photo processed:  89\n",
      "Photo processed:  90\n",
      "Photo processed:  91\n",
      "Photo processed:  92\n",
      "Photo processed:  93\n",
      "Photo processed:  94\n",
      "Photo processed:  95\n",
      "       frame  type  landmark_index         x         y         z\n",
      "0          0  face               0  0.413353  1.042298 -0.052775\n",
      "1          0  face               1  0.413818  0.979536 -0.060119\n",
      "2          0  face               2  0.413624  1.007818 -0.043246\n",
      "3          0  face               3  0.405056  0.943616 -0.028855\n",
      "4          0  face               4  0.414044  0.964477 -0.058850\n",
      "...      ...   ...             ...       ...       ...       ...\n",
      "52123     95  pose              28  0.298420  3.781735  1.652897\n",
      "52124     95  pose              29  0.721662  3.934988  1.028114\n",
      "52125     95  pose              30  0.293038  3.897053  1.728529\n",
      "52126     95  pose              31  0.628706  4.068819  0.041222\n",
      "52127     95  pose              32  0.369891  4.062366  0.687730\n",
      "\n",
      "[52128 rows x 6 columns]\n"
     ]
    }
   ],
   "source": [
    "print(get_dataframe())"
   ]
  },
  {
   "cell_type": "code",
   "execution_count": 8,
   "metadata": {
    "collapsed": false,
    "ExecuteTime": {
     "end_time": "2023-05-23T21:22:15.899752600Z",
     "start_time": "2023-05-23T21:22:15.885740300Z"
    }
   },
   "outputs": [],
   "source": []
  },
  {
   "cell_type": "code",
   "execution_count": 8,
   "metadata": {
    "collapsed": false,
    "ExecuteTime": {
     "end_time": "2023-05-23T21:22:15.924029400Z",
     "start_time": "2023-05-23T21:22:15.900753700Z"
    }
   },
   "outputs": [],
   "source": []
  },
  {
   "cell_type": "code",
   "execution_count": 8,
   "metadata": {
    "collapsed": false,
    "ExecuteTime": {
     "end_time": "2023-05-23T21:22:15.933033800Z",
     "start_time": "2023-05-23T21:22:15.919032200Z"
    }
   },
   "outputs": [],
   "source": []
  },
  {
   "cell_type": "code",
   "execution_count": 8,
   "outputs": [],
   "source": [],
   "metadata": {
    "collapsed": false,
    "ExecuteTime": {
     "end_time": "2023-05-23T21:22:15.946794600Z",
     "start_time": "2023-05-23T21:22:15.934033900Z"
    }
   }
  }
 ],
 "metadata": {
  "kernelspec": {
   "display_name": "Python 3",
   "language": "python",
   "name": "python3"
  },
  "language_info": {
   "codemirror_mode": {
    "name": "ipython",
    "version": 3
   },
   "file_extension": ".py",
   "mimetype": "text/x-python",
   "name": "python",
   "nbconvert_exporter": "python",
   "pygments_lexer": "ipython3",
   "version": "3.9.13"
  }
 },
 "nbformat": 4,
 "nbformat_minor": 0
}
